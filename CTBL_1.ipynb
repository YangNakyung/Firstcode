{
  "nbformat": 4,
  "nbformat_minor": 0,
  "metadata": {
    "colab": {
      "provenance": [],
      "authorship_tag": "ABX9TyPVfS4oRSMc+u89kHxSl8aQ",
      "include_colab_link": true
    },
    "kernelspec": {
      "name": "python3",
      "display_name": "Python 3"
    },
    "language_info": {
      "name": "python"
    }
  },
  "cells": [
    {
      "cell_type": "markdown",
      "metadata": {
        "id": "view-in-github",
        "colab_type": "text"
      },
      "source": [
        "<a href=\"https://colab.research.google.com/github/YangNakyung/Firstcode/blob/main/CTBL_1.ipynb\" target=\"_parent\"><img src=\"https://colab.research.google.com/assets/colab-badge.svg\" alt=\"Open In Colab\"/></a>"
      ]
    },
    {
      "cell_type": "markdown",
      "source": [
        "1. 학생으로부터 성적을 입력받아 합격유무를 출력하는 코드작성\n",
        "- 사용변수:Grade\n",
        "- 사용수식:Grade >=70:"
      ],
      "metadata": {
        "id": "bfYODQ-T0mGB"
      }
    },
    {
      "cell_type": "code",
      "source": [
        "Grade=int(input(\"성적입력: \"))  # 성적 입력 받기\n",
        "if Grade >=70:  # 성적이 70점 이상이면 합격\n",
        "  print(\"70점 이상이므로 합격\")\n",
        "else:  # 성적이 70점 미만이면 불합격\n",
        "  print(\"70이하는 불합격\")"
      ],
      "metadata": {
        "colab": {
          "base_uri": "https://localhost:8080/"
        },
        "id": "C1rqpmij1RT2",
        "outputId": "6fb60424-cc9a-4862-8305-c518686c911b"
      },
      "execution_count": null,
      "outputs": [
        {
          "output_type": "stream",
          "name": "stdout",
          "text": [
            "성적입력: 80\n",
            "70점 이상이므로 합격\n"
          ]
        }
      ]
    },
    {
      "cell_type": "markdown",
      "source": [
        "2. 쇼핑몰의 배송료를 계산하는 코드 작성\n",
        " - 변수명: price, shipping_cost\n",
        " - 수식: price>=20000"
      ],
      "metadata": {
        "id": "bFjteBBH3wE_"
      }
    },
    {
      "cell_type": "code",
      "source": [
        "price = int(input(\"구입금액 입력: \"))  # 구입금액 입력 받기\n",
        "if price >= 20000:  # 구입금액이 2만원 이상이면 배송료 무료\n",
        " shipping_cost = 0\n",
        " print(f'구입금액이 {price}원 이상입니다.')\n",
        "else:  # 구입금액이 2만원 미만이면 배송료 3000원\n",
        " shipping_cost = 3000\n",
        " print(\"구입금액이 2만원 이하입니다\")\n",
        "print(f'회원님의 배송료는 {shipping_cost}입니다.')  # 배송료 출력"
      ],
      "metadata": {
        "colab": {
          "base_uri": "https://localhost:8080/"
        },
        "id": "QKIOtm5742DX",
        "outputId": "91559b76-a76a-4177-a5ed-5cc591fb3252"
      },
      "execution_count": null,
      "outputs": [
        {
          "output_type": "stream",
          "name": "stdout",
          "text": [
            "구입금액 입력: 20000\n",
            "구입금액이 20000원 이상입니다.\n",
            "회원님의 배송료는 0입니다.\n"
          ]
        }
      ]
    },
    {
      "cell_type": "markdown",
      "source": [
        "3. 근무시간에 따라 초과근무와 정상근무를 판별하는 코드작성\n",
        "- 변수:work_hour\n",
        "- 수식:>=, 기준시간:72시간\n",
        "\n"
      ],
      "metadata": {
        "id": "aask05fF73CH"
      }
    },
    {
      "cell_type": "code",
      "source": [
        "work_hour=int(input(\"근무시간 입력:\"))  # 근무시간 입력 받기\n",
        "if work_hour >= 72:  # 근무시간이 72시간 이상이면 초과근무\n",
        "  print(\"초과근무시간하였습니다.\")\n",
        "else:  # 근무시간이 72시간 미만이면 정상근무\n",
        "  print(\"정상근무하였습니다.\")"
      ],
      "metadata": {
        "colab": {
          "base_uri": "https://localhost:8080/"
        },
        "id": "bo9XDbJs8e6C",
        "outputId": "9af07fa5-64e5-4f0f-c554-93f55e179760"
      },
      "execution_count": null,
      "outputs": [
        {
          "output_type": "stream",
          "name": "stdout",
          "text": [
            "근무시간 입력:66\n",
            "정상근무하였습니다.\n"
          ]
        }
      ]
    },
    {
      "cell_type": "markdown",
      "source": [
        "4. 정수를 입력받아서 짝수인지 홀수인지 판별하는 코드 작성\n",
        "- 변수:num\n",
        "- 수식:(num%2)!=0:"
      ],
      "metadata": {
        "id": "XAW_ow1m-LG5"
      }
    },
    {
      "cell_type": "code",
      "source": [
        "num=int(input(\"정수를 입력하시오:\"))  # 정수 입력 받기\n",
        "if(num % 2) !=0:  # 입력받은 수를 2로 나눈 나머지가 0이 아니면 홀수\n",
        "  print(\"홀수입니다.\")\n",
        "else:  # 입력받은 수를 2로 나눈 나머지가 0이면 짝수\n",
        "  print(\"짝수입니다.\")"
      ],
      "metadata": {
        "colab": {
          "base_uri": "https://localhost:8080/"
        },
        "id": "KFx5C5vz-wGY",
        "outputId": "f0d39c35-cfec-452e-9fdf-13cb4cf43962"
      },
      "execution_count": null,
      "outputs": [
        {
          "output_type": "stream",
          "name": "stdout",
          "text": [
            "정수를 입력하시오:12\n",
            "짝수입니다.\n"
          ]
        }
      ]
    },
    {
      "cell_type": "markdown",
      "source": [
        "5. 사용자의 이름과 나이를 입력받고,답변하는 코드 작성\n",
        " - 입력:성명-name\n",
        " - 입력:나이-age\n",
        " - 수식:if age >= 20:\n",
        "\n",
        " 최종 출력물\n",
        " - 이름을 입력하시오.:***\n",
        " - 나이를 입력하시오.:**\n",
        " - (1) 프로그래밍을 배우는 최적의 나이입니다.\n",
        " - (2) 아직도 늦지 않았습니다. 도전정신"
      ],
      "metadata": {
        "id": "2lLLS9vdAoQh"
      }
    },
    {
      "cell_type": "code",
      "source": [
        "name=input(\"이름을 입력하시오.:\")  # 이름 입력 받기\n",
        "age=int(input(\"나이를 입력하시오.:\"))  # 나이 입력 받기\n",
        "if age<=20:  # 나이가 20세 이하이면\n",
        "  print(\"프로그래밍을 배우는 최적의 나이입니다.\")\n",
        "else:  # 나이가 20세 초과이면\n",
        "  print(\"아직도 늦지 않았습니다. 도전정신\")"
      ],
      "metadata": {
        "colab": {
          "base_uri": "https://localhost:8080/"
        },
        "id": "w1aU7QZ8Bvts",
        "outputId": "a9edd842-d979-44ef-a7a3-d738c15fef64"
      },
      "execution_count": null,
      "outputs": [
        {
          "output_type": "stream",
          "name": "stdout",
          "text": [
            "이름을 입력하시오.:양나경\n",
            "나이를 입력하시오.:20\n",
            "프로그래밍을 배우는 최적의 나이입니다.\n"
          ]
        }
      ]
    },
    {
      "cell_type": "code",
      "source": [
        "import random  # 파이썬의 random 모듈을 가져옵니다.\n",
        "\n",
        "def generate_lotto_numbers():\n",
        "    # 1부터 45까지의 숫자 중에서 6개를 무작위로 선택합니다.\n",
        "    # random.sample 함수는 주어진 범위에서 지정된 개수만큼 무작위로 숫자를 선택합니다.\n",
        "    return random.sample(range(1, 46), 6)\n",
        "\n",
        "# 로또 번호를 생성하고 출력합니다.\n",
        "lotto_numbers = generate_lotto_numbers()\n",
        "print(\"생성된 로또 번호는 다음과 같습니다: \", lotto_numbers)"
      ],
      "metadata": {
        "colab": {
          "base_uri": "https://localhost:8080/"
        },
        "id": "n5y3gEegFJDL",
        "outputId": "335612d4-0ae9-4baf-d54c-4f1f5dc19d1f"
      },
      "execution_count": null,
      "outputs": [
        {
          "output_type": "stream",
          "name": "stdout",
          "text": [
            "생성된 로또 번호는 다음과 같습니다:  [10, 45, 37, 40, 29, 6]\n"
          ]
        }
      ]
    },
    {
      "cell_type": "code",
      "source": [
        "# 사용자로부터 이름을 입력받습니다.\n",
        "name = input(\"당신의 이름은 무엇인가요? \")\n",
        "\n",
        "# 사용자로부터 나이를 입력받습니다.\n",
        "age = input(\"당신의 나이는 몇 살인가요? \")\n",
        "\n",
        "# 입력받은 이름과 나이를 출력합니다.\n",
        "print(f\"반갑습니다, {name}님! 당신은 {age}살이군요.\")]"
      ],
      "metadata": {
        "id": "Oo85dhbsGrSz",
        "outputId": "cf2699b0-93a8-4f30-d133-05268e3503fe",
        "colab": {
          "base_uri": "https://localhost:8080/"
        }
      },
      "execution_count": null,
      "outputs": [
        {
          "output_type": "stream",
          "name": "stdout",
          "text": [
            "당신의 이름은 무엇인가요? 양나경\n",
            "당신의 나이는 몇 살인가요? 20\n",
            "반갑습니다, 양나경님! 당신은 20살이군요.\n"
          ]
        }
      ]
    }
  ]
}