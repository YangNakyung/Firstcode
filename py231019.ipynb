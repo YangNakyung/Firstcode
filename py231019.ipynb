{
  "nbformat": 4,
  "nbformat_minor": 0,
  "metadata": {
    "colab": {
      "provenance": [],
      "authorship_tag": "ABX9TyNhE6WwSiDTZ2VBVhd0DAhg",
      "include_colab_link": true
    },
    "kernelspec": {
      "name": "python3",
      "display_name": "Python 3"
    },
    "language_info": {
      "name": "python"
    }
  },
  "cells": [
    {
      "cell_type": "markdown",
      "metadata": {
        "id": "view-in-github",
        "colab_type": "text"
      },
      "source": [
        "<a href=\"https://colab.research.google.com/github/YangNakyung/Firstcode/blob/main/py231019.ipynb\" target=\"_parent\"><img src=\"https://colab.research.google.com/assets/colab-badge.svg\" alt=\"Open In Colab\"/></a>"
      ]
    },
    {
      "cell_type": "markdown",
      "source": [
        "To-do List를 작성하시오.\n",
        "-2023년 10월 19일 양나경\n",
        "- (1) 09:20 도서관에서 책 빌리기\n",
        "- (2) 11:20 컴퓨팅적사고와 기초코딩 수업\n",
        "- (3) 13:00 점심식사\n",
        "- (4) 14:10 교양수업\n",
        "- (5) 16:00 파이썬 공부 및 레포트 작성\n",
        "- (6) 17:40 저녁식사 및 집안일 돕기\n",
        "- (7) 19:00 LOL하기"
      ],
      "metadata": {
        "id": "M7Gm7_T2wD7K"
      }
    },
    {
      "cell_type": "code",
      "source": [
        "print(\"To-do List를 작성하시오.\") # To-do List 제목 출력\n",
        "print(\"2023년 10월 19일 양나경\")  # 날짜와 이름 출력 # 각 항목들을 출력\n",
        "print(\"(1)09:20 도서관에서 책 빌리기\")\n",
        "print(\"(2)11:20 컴퓨팅적사고와 기초코딩 수업\")\n",
        "print(\"(3)13:00 점심식사\")\n",
        "print(\"(4)14:10 교양수업\")\n",
        "print(\"(5)16:00 파이썬 공부 및 레포트 작성\")\n",
        "print(\"(6)17:40 저녁식사 및 집안일 돕기\")\n",
        "print(\"(7)19:00 LOL하기\")\n",
        "\n"
      ],
      "metadata": {
        "colab": {
          "base_uri": "https://localhost:8080/"
        },
        "id": "Y7S54v7wytua",
        "outputId": "c84ab7c9-f192-4100-c364-3632076ae2b2"
      },
      "execution_count": null,
      "outputs": [
        {
          "output_type": "stream",
          "name": "stdout",
          "text": [
            "To-do List를 작성하시오.\n",
            "2023년 10월 19일 양나경\n",
            "(1)09:20 도서관에서 책 빌리기\n",
            "(2)11:20 컴퓨팅적사고와 기초코딩 수업\n",
            "(3)13:00 점심식사\n",
            "(4)14:10 교양수업\n",
            "(5)16:00 파이썬 공부 및 레포트 작성\n",
            "(6)17:40 저녁식사 및 집안일 돕기\n",
            "(7)19:00 LOL하기\n"
          ]
        }
      ]
    },
    {
      "cell_type": "markdown",
      "source": [
        "2. 인사말 출력하기\n",
        "\n",
        "- 식사하셨습니까? 행님"
      ],
      "metadata": {
        "id": "NPW6f44XwUQq"
      }
    },
    {
      "cell_type": "code",
      "source": [
        "print(\"2.인사말 출력하기\") # 제목 출력\n",
        "print(\"-식사하셨습니까? 행님\")  # 인사말 출력"
      ],
      "metadata": {
        "colab": {
          "base_uri": "https://localhost:8080/"
        },
        "id": "rqfWqJ3Y2LHy",
        "outputId": "1efaebae-d671-46d4-e04c-2298afec3a02"
      },
      "execution_count": null,
      "outputs": [
        {
          "output_type": "stream",
          "name": "stdout",
          "text": [
            "2.인사말 출력하기\n",
            "-식사하셨습니까? 행님\n"
          ]
        }
      ]
    },
    {
      "cell_type": "markdown",
      "source": [
        "3. 학생 4명의 국어점수를 입력받아서 아래와 같이 출력하시오.\n",
        "- 박보검: 90점\n",
        "- 션: 92점\n",
        "- 도룡용: 80점\n",
        "- 차은우: 99점\n",
        "- 국어 점수 순위\n",
        "- 1등 차은우\n",
        "- 2등 션\n",
        "- 3등 박보검\n",
        "- 4등 도룡용"
      ],
      "metadata": {
        "id": "TtLlX4-jwu0S"
      }
    },
    {
      "cell_type": "code",
      "source": [
        "print(\"3.학생 4명의 국어점수를 입력받아서 아래와 같이 출력하시오.\")  # 각 학생의 국어 점수 입력 받기\n",
        "n1=(input(\"박보검의 값을 입력하시오.:\"))\n",
        "n2=(input(\"션의 값을 입력하시오.:\"))\n",
        "n3=(input(\"도룡용의 값을 입력하시오.:\"))\n",
        "n4=(input(\"차은우의 값을 입력하시오.:\"))   # 순위와 점수 출력 (순위는 사용자가 직접 입력)\n",
        "print(\"1등 차은우\",n4,\"점\")\n",
        "print(\"2등 션\",n2,\"점\")\n",
        "print(\"3등 박보검\",n1,\"점\")\n",
        "print(\"4등 도룡용\",n3,\"점\")"
      ],
      "metadata": {
        "colab": {
          "base_uri": "https://localhost:8080/"
        },
        "id": "lyxC2Csy2hZh",
        "outputId": "8e2e078f-9c80-4ab2-dfba-589518109f5b"
      },
      "execution_count": null,
      "outputs": [
        {
          "output_type": "stream",
          "name": "stdout",
          "text": [
            "3.학생 4명의 국어점수를 입력받아서 아래와 같이 출력하시오.\n",
            "박보검의 값을 입력하시오.:90\n",
            "션의 값을 입력하시오.:92\n",
            "도룡용의 값을 입력하시오.:80\n",
            "차은우의 값을 입력하시오.:99\n",
            "1등 차은우 99 점\n",
            "2등 션 92 점\n",
            "3등 박보검 90 점\n",
            "4등 도룡용 80 점\n"
          ]
        }
      ]
    },
    {
      "cell_type": "markdown",
      "source": [
        "4. 두개의 점수를 입력받아서 합계와 평균을 출력하시오."
      ],
      "metadata": {
        "id": "4RawJTRmxiPS"
      }
    },
    {
      "cell_type": "code",
      "source": [
        "print(\"4.두개의 점수를 입력받아서 합계와 평균을 출력하시오.\")  # 두 점수 입력 받기\n",
        "n1=int(input(\"n1의 값을 입력하시오.:\"))\n",
        "n2=int(input(\"n2의 값을 입력하시오.:\"))\n",
        "total=n1+n2\n",
        "average=total/2  # 평균 계산\n",
        "print(average)  # 평균 출력"
      ],
      "metadata": {
        "colab": {
          "base_uri": "https://localhost:8080/"
        },
        "id": "0I1aQ2D4365p",
        "outputId": "9b374a26-bf3a-4a00-a94d-5c94fcf31e0f"
      },
      "execution_count": null,
      "outputs": [
        {
          "output_type": "stream",
          "name": "stdout",
          "text": [
            "4.두개의 점수를 입력받아서 합계와 평균을 출력하시오.\n",
            "n1의 값을 입력하시오.:78\n",
            "n2의 값을 입력하시오.:35\n",
            "56.5\n"
          ]
        }
      ]
    }
  ]
}