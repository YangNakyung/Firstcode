{
  "nbformat": 4,
  "nbformat_minor": 0,
  "metadata": {
    "colab": {
      "provenance": [],
      "authorship_tag": "ABX9TyNGK//qYQglUFhRw/At7Jzo",
      "include_colab_link": true
    },
    "kernelspec": {
      "name": "python3",
      "display_name": "Python 3"
    },
    "language_info": {
      "name": "python"
    }
  },
  "cells": [
    {
      "cell_type": "markdown",
      "metadata": {
        "id": "view-in-github",
        "colab_type": "text"
      },
      "source": [
        "<a href=\"https://colab.research.google.com/github/YangNakyung/Firstcode/blob/main/My1st_Code0.ipynb\" target=\"_parent\"><img src=\"https://colab.research.google.com/assets/colab-badge.svg\" alt=\"Open In Colab\"/></a>"
      ]
    },
    {
      "cell_type": "markdown",
      "source": [
        "1. 나의 생애 첫 코드작성(Hello World)"
      ],
      "metadata": {
        "id": "6YRz8I44hAbO"
      }
    },
    {
      "cell_type": "markdown",
      "source": [
        "2. 사칙연산(+,-,*,/)"
      ],
      "metadata": {
        "id": "zk3rf5FRkXWU"
      }
    },
    {
      "cell_type": "code",
      "source": [
        "print(4+4, 4-2, 4*4, 4//2)"
      ],
      "metadata": {
        "colab": {
          "base_uri": "https://localhost:8080/"
        },
        "id": "pRjd0xQjkf6r",
        "outputId": "75691e1e-0971-419d-ead1-6e41bf4fcead"
      },
      "execution_count": 3,
      "outputs": [
        {
          "output_type": "stream",
          "name": "stdout",
          "text": [
            "8 2 16 2\n"
          ]
        }
      ]
    },
    {
      "cell_type": "code",
      "execution_count": 1,
      "metadata": {
        "colab": {
          "base_uri": "https://localhost:8080/"
        },
        "id": "7l2i9XBReAca",
        "outputId": "a4f3a35d-9403-434f-fbe1-bdb824c39825"
      },
      "outputs": [
        {
          "output_type": "stream",
          "name": "stdout",
          "text": [
            "hello world!\n"
          ]
        }
      ],
      "source": [
        "print(\"hello world!\")"
      ]
    }
  ]
}