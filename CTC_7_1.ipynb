{
  "nbformat": 4,
  "nbformat_minor": 0,
  "metadata": {
    "colab": {
      "provenance": [],
      "authorship_tag": "ABX9TyMekqVC/u3dr92bPD7xQUJA",
      "include_colab_link": true
    },
    "kernelspec": {
      "name": "python3",
      "display_name": "Python 3"
    },
    "language_info": {
      "name": "python"
    }
  },
  "cells": [
    {
      "cell_type": "markdown",
      "metadata": {
        "id": "view-in-github",
        "colab_type": "text"
      },
      "source": [
        "<a href=\"https://colab.research.google.com/github/YangNakyung/Firstcode/blob/main/CTC_7_1.ipynb\" target=\"_parent\"><img src=\"https://colab.research.google.com/assets/colab-badge.svg\" alt=\"Open In Colab\"/></a>"
      ]
    },
    {
      "cell_type": "code",
      "execution_count": 1,
      "metadata": {
        "colab": {
          "base_uri": "https://localhost:8080/"
        },
        "id": "deA7v96WHhAf",
        "outputId": "62243d0c-804f-4bfe-9207-ea6611f28755"
      },
      "outputs": [
        {
          "output_type": "stream",
          "name": "stdout",
          "text": [
            "x의 값을 입력하시오.:1\n",
            "y의 값을 입력하시오.:2\n",
            "z의 값을 입력하시오.:3\n",
            "x의 값은2이며, y의 값은 3이고, z의 값은 4이다\n"
          ]
        }
      ],
      "source": [
        "x=int(input(\"x의 값을 입력하시오.:\"))\n",
        "y=int(input(\"y의 값을 입력하시오.:\"))\n",
        "z=int(input(\"z의 값을 입력하시오.:\"))\n",
        "x=x+1\n",
        "y=y+1\n",
        "z=z+1\n",
        "print(f'x의 값은{x}이며, y의 값은 {y}이고, z의 값은 {z}이다')"
      ]
    },
    {
      "cell_type": "markdown",
      "source": [
        "2. 알바생의 시급과 시간을 계산하여 월급을 출력한 코드\n"
      ],
      "metadata": {
        "id": "w6HmWakpJLej"
      }
    },
    {
      "cell_type": "code",
      "source": [
        "hours_worked=int(input(\"일한 시간을 입력하시오.:\"))\n",
        "pay_rate=int(input(\"시급을 입력하시오(23기준 9620원):\"))\n",
        "monthly_pay=hours_worked*pay_rate\n",
        "print(f'일한시간은{hours_worked}이고, 시급은{pay_rate}이며, 월급여는{monthly_pay}원 입니다.')"
      ],
      "metadata": {
        "colab": {
          "base_uri": "https://localhost:8080/"
        },
        "id": "oHroAIsiJfvE",
        "outputId": "849bf0e4-bdd9-4cda-ed94-88f0b9ddead9"
      },
      "execution_count": 3,
      "outputs": [
        {
          "output_type": "stream",
          "name": "stdout",
          "text": [
            "일한 시간을 입력하시오.:10\n",
            "시급을 입력하시오(23기준 9620원):9620\n",
            "일한시간은10이고, 시급은9620이며, 월급여는96200원 입니다.\n"
          ]
        }
      ]
    },
    {
      "cell_type": "markdown",
      "source": [
        "3. 환율계산하는 코드작성\n",
        " -원의 변수는 won\n",
        " -달러의 변수는 usd\n",
        " -환전의 변수는 exchange"
      ],
      "metadata": {
        "id": "1Yi7LdGQLquj"
      }
    },
    {
      "cell_type": "code",
      "source": [
        "won=int(input(\"환전할 금액을 입력(kor):\"))\n",
        "usd=int(input(\"현재 달러의 환율 입력(231031:1372)\"))\n",
        "exchange=won+usd\n",
        "print(f'환전할 금액은 {won}이며, 달러 금액은 {usd}이고, 환전금액은 {exchange}입니다.')"
      ],
      "metadata": {
        "colab": {
          "base_uri": "https://localhost:8080/"
        },
        "id": "6R5bsLRyL_NQ",
        "outputId": "3a67d416-7a6d-4523-e005-cb337cc0301f"
      },
      "execution_count": 4,
      "outputs": [
        {
          "output_type": "stream",
          "name": "stdout",
          "text": [
            "환전할 금액을 입력(kor):5000\n",
            "현재 달러의 환율 입력(231031:1372)1372\n",
            "환전할 금액은 5000이며, 달러 금액은 1372이고, 환전금액은 6372입니다.\n"
          ]
        }
      ]
    },
    {
      "cell_type": "markdown",
      "source": [
        "4. 화씨(fahrenheit)를 섭씨(celcius)로 변환하는 코드작성"
      ],
      "metadata": {
        "id": "lrGzmKXDN93v"
      }
    },
    {
      "cell_type": "code",
      "source": [
        "fahrenheit=int(input(\"화씨온도를 입력하시오.:\"))\n",
        "celcius=(fahrenheit-32)/1.8\n",
        "print(f'화씨온도는{fahrenheit}, 섭씨{celcius}입니다.')"
      ],
      "metadata": {
        "colab": {
          "base_uri": "https://localhost:8080/"
        },
        "id": "YwFw66_YQNOi",
        "outputId": "78e81685-deab-4126-c3db-bcc388c71fb4"
      },
      "execution_count": 14,
      "outputs": [
        {
          "output_type": "stream",
          "name": "stdout",
          "text": [
            "화씨온도를 입력하시오.:100\n",
            "화씨온도는100, 섭씨37.77777777777778입니다.\n"
          ]
        }
      ]
    },
    {
      "cell_type": "code",
      "source": [
        "celcius=float(input(\"섭씨온도를 입력하시오.:\"))\n",
        "fahrenheit=(celcius*1.8)+32\n",
        "print(f'섭씨온도는{celcius}도는 화씨{fahrenheit}도 입니다.')"
      ],
      "metadata": {
        "colab": {
          "base_uri": "https://localhost:8080/"
        },
        "id": "03u78mSuQL65",
        "outputId": "453c8f7a-0d5e-4c35-b3d7-02f81e65e1fc"
      },
      "execution_count": 15,
      "outputs": [
        {
          "output_type": "stream",
          "name": "stdout",
          "text": [
            "섭씨온도를 입력하시오.:37.77777777777778\n",
            "섭씨온도는37.77777777777778도는 화씨100.0도 입니다.\n"
          ]
        }
      ]
    }
  ]
}