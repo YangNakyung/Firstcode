{
  "nbformat": 4,
  "nbformat_minor": 0,
  "metadata": {
    "colab": {
      "provenance": [],
      "authorship_tag": "ABX9TyNn2Pl+MQ0ABTMuhp/iZba3",
      "include_colab_link": true
    },
    "kernelspec": {
      "name": "python3",
      "display_name": "Python 3"
    },
    "language_info": {
      "name": "python"
    }
  },
  "cells": [
    {
      "cell_type": "markdown",
      "metadata": {
        "id": "view-in-github",
        "colab_type": "text"
      },
      "source": [
        "<a href=\"https://colab.research.google.com/github/YangNakyung/Firstcode/blob/main/CTC_7_1.ipynb\" target=\"_parent\"><img src=\"https://colab.research.google.com/assets/colab-badge.svg\" alt=\"Open In Colab\"/></a>"
      ]
    },
    {
      "cell_type": "code",
      "execution_count": null,
      "metadata": {
        "colab": {
          "base_uri": "https://localhost:8080/"
        },
        "id": "deA7v96WHhAf",
        "outputId": "62243d0c-804f-4bfe-9207-ea6611f28755"
      },
      "outputs": [
        {
          "output_type": "stream",
          "name": "stdout",
          "text": [
            "x의 값을 입력하시오.:1\n",
            "y의 값을 입력하시오.:2\n",
            "z의 값을 입력하시오.:3\n",
            "x의 값은2이며, y의 값은 3이고, z의 값은 4이다\n"
          ]
        }
      ],
      "source": [
        "x=int(input(\"x의 값을 입력하시오.:\"))\n",
        "y=int(input(\"y의 값을 입력하시오.:\"))\n",
        "z=int(input(\"z의 값을 입력하시오.:\"))\n",
        "x=x+1\n",
        "y=y+1\n",
        "z=z+1\n",
        "print(f'x의 값은{x}이며, y의 값은 {y}이고, z의 값은 {z}이다')"
      ]
    },
    {
      "cell_type": "markdown",
      "source": [
        "2. 알바생의 시급과 시간을 계산하여 월급을 출력한 코드\n"
      ],
      "metadata": {
        "id": "w6HmWakpJLej"
      }
    },
    {
      "cell_type": "code",
      "source": [
        "hours_worked=int(input(\"일한 시간을 입력하시오.:\"))\n",
        "pay_rate=int(input(\"시급을 입력하시오(23기준 9620원):\"))\n",
        "monthly_pay=hours_worked*pay_rate\n",
        "print(f'일한시간은{hours_worked}이고, 시급은{pay_rate}이며, 월급여는{monthly_pay}원 입니다.')"
      ],
      "metadata": {
        "colab": {
          "base_uri": "https://localhost:8080/"
        },
        "id": "oHroAIsiJfvE",
        "outputId": "849bf0e4-bdd9-4cda-ed94-88f0b9ddead9"
      },
      "execution_count": null,
      "outputs": [
        {
          "output_type": "stream",
          "name": "stdout",
          "text": [
            "일한 시간을 입력하시오.:10\n",
            "시급을 입력하시오(23기준 9620원):9620\n",
            "일한시간은10이고, 시급은9620이며, 월급여는96200원 입니다.\n"
          ]
        }
      ]
    },
    {
      "cell_type": "markdown",
      "source": [
        "3. 환율계산하는 코드작성\n",
        " -원의 변수는 won\n",
        " -달러의 변수는 usd\n",
        " -환전의 변수는 exchange"
      ],
      "metadata": {
        "id": "1Yi7LdGQLquj"
      }
    },
    {
      "cell_type": "code",
      "source": [
        "won=int(input(\"환전할 금액을 입력(kor):\"))\n",
        "usd=int(input(\"현재 달러의 환율 입력(231031:1372)\"))\n",
        "exchange=won+usd\n",
        "print(f'환전할 금액은 {won}이며, 달러 금액은 {usd}이고, 환전금액은 {exchange}입니다.')"
      ],
      "metadata": {
        "colab": {
          "base_uri": "https://localhost:8080/"
        },
        "id": "6R5bsLRyL_NQ",
        "outputId": "3a67d416-7a6d-4523-e005-cb337cc0301f"
      },
      "execution_count": null,
      "outputs": [
        {
          "output_type": "stream",
          "name": "stdout",
          "text": [
            "환전할 금액을 입력(kor):5000\n",
            "현재 달러의 환율 입력(231031:1372)1372\n",
            "환전할 금액은 5000이며, 달러 금액은 1372이고, 환전금액은 6372입니다.\n"
          ]
        }
      ]
    },
    {
      "cell_type": "markdown",
      "source": [
        "4. 화씨(fahrenheit)를 섭씨(celcius)로 변환하는 코드작성"
      ],
      "metadata": {
        "id": "lrGzmKXDN93v"
      }
    },
    {
      "cell_type": "code",
      "source": [
        "fahrenheit=int(input(\"화씨온도를 입력하시오.:\"))\n",
        "celcius=(fahrenheit-32)/1.8\n",
        "print(f'화씨온도는{fahrenheit}, 섭씨{celcius}입니다.')"
      ],
      "metadata": {
        "colab": {
          "base_uri": "https://localhost:8080/"
        },
        "id": "YwFw66_YQNOi",
        "outputId": "78e81685-deab-4126-c3db-bcc388c71fb4"
      },
      "execution_count": null,
      "outputs": [
        {
          "output_type": "stream",
          "name": "stdout",
          "text": [
            "화씨온도를 입력하시오.:100\n",
            "화씨온도는100, 섭씨37.77777777777778입니다.\n"
          ]
        }
      ]
    },
    {
      "cell_type": "code",
      "source": [
        "celcius=float(input(\"섭씨온도를 입력하시오.:\"))\n",
        "fahrenheit=(celcius*1.8)+32\n",
        "print(f'섭씨온도는{celcius}도는 화씨{fahrenheit}도 입니다.')"
      ],
      "metadata": {
        "id": "CqfhHHq2VzaY",
        "outputId": "75ba508d-dea2-4a4b-9a4e-550374766031",
        "colab": {
          "base_uri": "https://localhost:8080/"
        }
      },
      "execution_count": 1,
      "outputs": [
        {
          "output_type": "stream",
          "name": "stdout",
          "text": [
            "섭씨온도를 입력하시오.:100\n",
            "섭씨온도는100.0도는 화씨212.0도 입니다.\n"
          ]
        }
      ]
    },
    {
      "cell_type": "markdown",
      "source": [
        "5. 사용자로부터 2개의 정수를 받아서 합계를 출력"
      ],
      "metadata": {
        "id": "dvmpgLJjWIOK"
      }
    },
    {
      "cell_type": "code",
      "source": [
        "x=int(input(\"x의 값을 입력하시오.:\"))\n",
        "y=int(input(\"y의 값을 입력하시오.:\"))\n",
        "sum=x+y\n",
        "print(sum)"
      ],
      "metadata": {
        "id": "7dwD4owFXlSR",
        "outputId": "570c645f-95a8-4991-9c28-2e2a076e89f8",
        "colab": {
          "base_uri": "https://localhost:8080/"
        }
      },
      "execution_count": 13,
      "outputs": [
        {
          "output_type": "stream",
          "name": "stdout",
          "text": [
            "x의 값을 입력하시오.:11\n",
            "y의 값을 입력하시오.:22\n",
            "33\n"
          ]
        }
      ]
    },
    {
      "cell_type": "markdown",
      "source": [
        "6. 부가세를 계산하시오"
      ],
      "metadata": {
        "id": "w9lY-aNqYFPn"
      }
    },
    {
      "cell_type": "code",
      "source": [
        "price=int(input(\"상품의 가격을 입력하시오.:\"))\n",
        "vat=price * 0.1\n",
        "print(vat)"
      ],
      "metadata": {
        "id": "fWZmNjipYJox",
        "outputId": "62510a0e-10f0-4d7b-f940-87ecf5079307",
        "colab": {
          "base_uri": "https://localhost:8080/"
        }
      },
      "execution_count": 16,
      "outputs": [
        {
          "output_type": "stream",
          "name": "stdout",
          "text": [
            "상품의 가격을 입력하시오.:60000\n",
            "6000.0\n"
          ]
        }
      ]
    }
  ]
}