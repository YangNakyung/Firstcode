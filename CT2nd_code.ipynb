{
  "nbformat": 4,
  "nbformat_minor": 0,
  "metadata": {
    "colab": {
      "provenance": [],
      "authorship_tag": "ABX9TyPG1guSsy/389wMHxGS8JMQ",
      "include_colab_link": true
    },
    "kernelspec": {
      "name": "python3",
      "display_name": "Python 3"
    },
    "language_info": {
      "name": "python"
    }
  },
  "cells": [
    {
      "cell_type": "markdown",
      "metadata": {
        "id": "view-in-github",
        "colab_type": "text"
      },
      "source": [
        "<a href=\"https://colab.research.google.com/github/YangNakyung/Firstcode/blob/main/CT2nd_code.ipynb\" target=\"_parent\"><img src=\"https://colab.research.google.com/assets/colab-badge.svg\" alt=\"Open In Colab\"/></a>"
      ]
    },
    {
      "cell_type": "markdown",
      "source": [
        "2번째 코딩\n",
        "\n",
        "\n",
        "*   세개의 값을 더해서 평균 값을 출력하시오\n",
        "\n",
        "\n"
      ],
      "metadata": {
        "id": "VBatvRfXMWeR"
      }
    },
    {
      "cell_type": "code",
      "execution_count": null,
      "metadata": {
        "colab": {
          "base_uri": "https://localhost:8080/"
        },
        "id": "isw8tCZ8ItxO",
        "outputId": "1ea1b275-c212-4eeb-bb8c-c87db0efd167"
      },
      "outputs": [
        {
          "output_type": "stream",
          "name": "stdout",
          "text": [
            "N1의 값을 입력하시오.:40\n",
            "N2의 값을 입력하시오.:50\n",
            "N3의 값을 입력하시오.:60\n",
            "50.0\n"
          ]
        }
      ],
      "source": [
        "n1=int(input(\"N1의 값을 입력하시오.:\"))\n",
        "n2=int(input(\"N2의 값을 입력하시오.:\"))\n",
        "n3=int(input(\"N3의 값을 입력하시오.:\"))\n",
        "total=n1+n2+n3\n",
        "average=total/3\n",
        "print(average)"
      ]
    }
  ]
}