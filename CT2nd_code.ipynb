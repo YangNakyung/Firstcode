{
  "nbformat": 4,
  "nbformat_minor": 0,
  "metadata": {
    "colab": {
      "provenance": [],
      "authorship_tag": "ABX9TyM7ay/dqxLRxFSyQWCJRrPe",
      "include_colab_link": true
    },
    "kernelspec": {
      "name": "python3",
      "display_name": "Python 3"
    },
    "language_info": {
      "name": "python"
    }
  },
  "cells": [
    {
      "cell_type": "markdown",
      "metadata": {
        "id": "view-in-github",
        "colab_type": "text"
      },
      "source": [
        "<a href=\"https://colab.research.google.com/github/YangNakyung/Firstcode/blob/main/CT2nd_code.ipynb\" target=\"_parent\"><img src=\"https://colab.research.google.com/assets/colab-badge.svg\" alt=\"Open In Colab\"/></a>"
      ]
    },
    {
      "cell_type": "markdown",
      "source": [
        "2번째 코딩\n",
        "\n",
        "\n",
        "*   세개의 값을 더해서 평균 값을 출력하시오\n",
        "\n",
        "\n"
      ],
      "metadata": {
        "id": "VBatvRfXMWeR"
      }
    },
    {
      "cell_type": "code",
      "execution_count": null,
      "metadata": {
        "colab": {
          "base_uri": "https://localhost:8080/"
        },
        "id": "isw8tCZ8ItxO",
        "outputId": "1ea1b275-c212-4eeb-bb8c-c87db0efd167"
      },
      "outputs": [
        {
          "output_type": "stream",
          "name": "stdout",
          "text": [
            "N1의 값을 입력하시오.:40\n",
            "N2의 값을 입력하시오.:50\n",
            "N3의 값을 입력하시오.:60\n",
            "50.0\n"
          ]
        }
      ],
      "source": [
        "n1=int(input(\"N1의 값을 입력하시오.:\"))  # 첫 번째 값을 입력받음\n",
        "n2=int(input(\"N2의 값을 입력하시오.:\"))  # 두 번째 값을 입력받음\n",
        "n3=int(input(\"N3의 값을 입력하시오.:\"))  # 세 번째 값을 입력받음\n",
        "total=n1+n2+n3  # 세 값의 합을 계산\n",
        "average=total/3  # 값의 합을 3으로 나누어 평균을 계산\n",
        "print(average)  # 계산한 평균을 출력"
      ]
    }
  ]
}