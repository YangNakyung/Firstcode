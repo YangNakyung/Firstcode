{
  "nbformat": 4,
  "nbformat_minor": 0,
  "metadata": {
    "colab": {
      "provenance": [],
      "authorship_tag": "ABX9TyP58qG/LAKEj02yUbJ9ps11",
      "include_colab_link": true
    },
    "kernelspec": {
      "name": "python3",
      "display_name": "Python 3"
    },
    "language_info": {
      "name": "python"
    }
  },
  "cells": [
    {
      "cell_type": "markdown",
      "metadata": {
        "id": "view-in-github",
        "colab_type": "text"
      },
      "source": [
        "<a href=\"https://colab.research.google.com/github/YangNakyung/Firstcode/blob/main/CTBA_9.ipynb\" target=\"_parent\"><img src=\"https://colab.research.google.com/assets/colab-badge.svg\" alt=\"Open In Colab\"/></a>"
      ]
    },
    {
      "cell_type": "markdown",
      "source": [
        "1. 두가지 이상의 선택, 다양한 선택구조 코딩\n",
        " - 배송료처리 3가지로 작성\n",
        " - 변수: price, 가격 10만원이상 0원,\n",
        " 2만원이상 3000원, 그외 5천원\n",
        "\n"
      ],
      "metadata": {
        "id": "wgsG3HB_MjGL"
      }
    },
    {
      "cell_type": "code",
      "source": [
        "print(\"배송료를 계산합니다.\")\n",
        "print(\"#\" * 30)\n",
        "price = int(input(\"구입금액 입력:\"))\n",
        "if price >= 100000:\n",
        "  shipping_cost=0\n",
        "else:\n",
        " if price >= 20000:\n",
        "   shipping_cost= 3000\n",
        " else:\n",
        "   shipping_cost= 5000\n",
        "print(f' 배송료는 {shipping_cost}원  입니다.')"
      ],
      "metadata": {
        "colab": {
          "base_uri": "https://localhost:8080/"
        },
        "id": "rlrOtK2-M85x",
        "outputId": "5878f987-40f4-4a50-e8e1-e00c98058d4b"
      },
      "execution_count": null,
      "outputs": [
        {
          "output_type": "stream",
          "name": "stdout",
          "text": [
            "배송료를 계산합니다.\n",
            "##############################\n",
            "구입금액 입력:19000\n",
            " 배송료는 5000원  입니다.\n"
          ]
        }
      ]
    },
    {
      "cell_type": "markdown",
      "source": [
        "2. 환영합니다. 5번 출력, 10번 출력, 30번 출력"
      ],
      "metadata": {
        "id": "omh8atOrOZpp"
      }
    },
    {
      "cell_type": "code",
      "source": [
        "print(\"환영합니다.\")\n",
        "print(\"환영합니다.\")\n",
        "print(\"환영합니다.\")\n",
        "print(\"환영합니다.\")"
      ],
      "metadata": {
        "id": "JpDXN5w-SpfS"
      },
      "execution_count": null,
      "outputs": []
    },
    {
      "cell_type": "code",
      "source": [
        "print(\"환영합니다.\\n\" * 5)"
      ],
      "metadata": {
        "colab": {
          "base_uri": "https://localhost:8080/"
        },
        "id": "GaNpyDrfSvfy",
        "outputId": "b7cd6033-70f8-4e6c-cd18-49c9d5cc1c26"
      },
      "execution_count": null,
      "outputs": [
        {
          "output_type": "stream",
          "name": "stdout",
          "text": [
            "환영합니다.\n",
            "환영합니다.\n",
            "환영합니다.\n",
            "환영합니다.\n",
            "환영합니다.\n",
            "\n"
          ]
        }
      ]
    },
    {
      "cell_type": "code",
      "source": [
        "count = 1\n",
        "while count <=5:\n",
        "  print(\"(\", count,\")\", \"환영합니다.\")\n",
        "  print(F'({count})',\"환영합니다.\")\n",
        "  count = count + 1\n",
        "  #count += 1"
      ],
      "metadata": {
        "colab": {
          "base_uri": "https://localhost:8080/"
        },
        "id": "8PDyHhpVSwmK",
        "outputId": "c7857254-b4dd-4b74-fa22-f472e73ae37b"
      },
      "execution_count": null,
      "outputs": [
        {
          "output_type": "stream",
          "name": "stdout",
          "text": [
            "( 1 ) 환영합니다.\n",
            "(1) 환영합니다.\n",
            "( 2 ) 환영합니다.\n",
            "(2) 환영합니다.\n",
            "( 3 ) 환영합니다.\n",
            "(3) 환영합니다.\n",
            "( 4 ) 환영합니다.\n",
            "(4) 환영합니다.\n",
            "( 5 ) 환영합니다.\n",
            "(5) 환영합니다.\n"
          ]
        }
      ]
    },
    {
      "cell_type": "markdown",
      "source": [
        "3. 0부터 9까지 출력하는 코드 작성\n",
        " - 변수:x"
      ],
      "metadata": {
        "id": "dj-WW6WqUu-J"
      }
    },
    {
      "cell_type": "code",
      "source": [
        "x = 0\n",
        "while x < 10:\n",
        " print(x, end=' ')\n",
        " x += 1"
      ],
      "metadata": {
        "colab": {
          "base_uri": "https://localhost:8080/"
        },
        "id": "RDduPzFsU3uJ",
        "outputId": "dec5e8f6-3454-4daf-c592-2012bd5c2a27"
      },
      "execution_count": null,
      "outputs": [
        {
          "output_type": "stream",
          "name": "stdout",
          "text": [
            "0 1 2 3 4 5 6 7 8 9 "
          ]
        }
      ]
    },
    {
      "cell_type": "markdown",
      "source": [
        "4. 1부터 10까지 정수의 합을 계산하여 출력하는\n",
        "코드"
      ],
      "metadata": {
        "id": "w6NtNJfkYX4Z"
      }
    },
    {
      "cell_type": "code",
      "source": [
        "x = 1\n",
        "total = 0\n",
        "while x <= 10:\n",
        "  total = total + x\n",
        "  x += 1\n",
        "print(total)"
      ],
      "metadata": {
        "colab": {
          "base_uri": "https://localhost:8080/"
        },
        "id": "zhT0QJkkYebR",
        "outputId": "c6d01328-7731-4e9d-b882-0ed581552aa4"
      },
      "execution_count": 43,
      "outputs": [
        {
          "output_type": "stream",
          "name": "stdout",
          "text": [
            "55\n"
          ]
        }
      ]
    },
    {
      "cell_type": "code",
      "source": [
        "x=1\n",
        "while x <= 10:\n",
        "  print(x)\n",
        "  x+=1"
      ],
      "metadata": {
        "colab": {
          "base_uri": "https://localhost:8080/"
        },
        "id": "UaM-kzhQeN0q",
        "outputId": "449aa124-ab87-4c32-dde9-f8baef7fb454"
      },
      "execution_count": 69,
      "outputs": [
        {
          "output_type": "stream",
          "name": "stdout",
          "text": [
            "1\n",
            "2\n",
            "3\n",
            "4\n",
            "5\n",
            "6\n",
            "7\n",
            "8\n",
            "9\n",
            "10\n"
          ]
        }
      ]
    },
    {
      "cell_type": "markdown",
      "source": [
        "5. 3--6-9 게임 (3의 배수 판단): 3의 배수를 3으로 나누면 나머지가 0이 되므로(i mod 3)의\n",
        "값이 0이면 박수를 출력, 아니면 숫자를\n",
        "출력해주는 코드 작성"
      ],
      "metadata": {
        "id": "XksTiJbsVpd5"
      }
    },
    {
      "cell_type": "code",
      "source": [
        "i = 1                      # 변수 i는 0으로 선언\n",
        "while i <= 30:             # 반복문 while 사용해서 i가 30보다 작거나 같을 때\n",
        "  if i % 3 == 0:           # 만약 i값을 3으로 나눈 나머지가 0이면\n",
        "    print(\"박수\", end=' ') # 박수를 출력하고 공백을 하나 만듦\n",
        "  else:                    # 위의 것이 아니면,\n",
        "    print(i, end=' ')      # i값만 출력하고 공백 하나 만듦\n",
        "  i += 1                   # 변수 i값에 i와 1을 더해서 다시 변수 i에 선언"
      ],
      "metadata": {
        "colab": {
          "base_uri": "https://localhost:8080/"
        },
        "id": "bG5FM8F6V9aB",
        "outputId": "6d8c69d9-abb1-40a0-93f7-b095e35a0874"
      },
      "execution_count": 42,
      "outputs": [
        {
          "output_type": "stream",
          "name": "stdout",
          "text": [
            "1 2 박수 4 5 박수 7 8 박수 10 11 박수 13 14 박수 16 17 박수 19 20 박수 22 23 박수 25 26 박수 28 29 박수 "
          ]
        }
      ]
    },
    {
      "cell_type": "code",
      "source": [
        "for num in range(1, 11):   #1부터 11까지의 숫자를 반복\n",
        "  if num % 3 == 0:          # 숫자(num)를 3으로 나눈 나머지가 0인 경우\n",
        "    print(\"박수\", end=' ')  # 박수를 출력하고 공백 만듦\n",
        "  else:                       # 그게 아니면\n",
        "   print(num, end=' ')      # 숫자만 출력하고 공백 만듦"
      ],
      "metadata": {
        "colab": {
          "base_uri": "https://localhost:8080/"
        },
        "id": "zSj9skFsZNQa",
        "outputId": "fd57dc7f-e01d-4134-d72e-2850f7359885"
      },
      "execution_count": 59,
      "outputs": [
        {
          "output_type": "stream",
          "name": "stdout",
          "text": [
            "1 2 박수 4 5 박수 7 8 박수 10 "
          ]
        }
      ]
    },
    {
      "cell_type": "markdown",
      "source": [
        "6. 팩토리얼 계산하는 코드 작성"
      ],
      "metadata": {
        "id": "B73P--OHafCa"
      }
    },
    {
      "cell_type": "code",
      "source": [
        "i = 4\n",
        "factorial = 1\n",
        "while i >= 1:\n",
        "  factorial = factorial * i\n",
        "  i -= 1\n",
        "print(factorial)"
      ],
      "metadata": {
        "colab": {
          "base_uri": "https://localhost:8080/"
        },
        "id": "n4xlhQrkapTK",
        "outputId": "568b9a8e-c408-494c-913d-c9d4b631ac71"
      },
      "execution_count": 68,
      "outputs": [
        {
          "output_type": "stream",
          "name": "stdout",
          "text": [
            "24\n"
          ]
        }
      ]
    },
    {
      "cell_type": "code",
      "source": [
        "num = int(input(\"팩토리얼 값입력:\"))\n",
        "factorial = 1\n",
        "while num >= 1:\n",
        "   factorial = factorial * num\n",
        "   num -= 1\n",
        "print(\"계산된 팩토리얼 값은:\",factorial)"
      ],
      "metadata": {
        "colab": {
          "base_uri": "https://localhost:8080/"
        },
        "id": "Y5TipBApbkTi",
        "outputId": "efbf486c-e8b4-4fb5-bad9-90cb1afa328f"
      },
      "execution_count": 51,
      "outputs": [
        {
          "output_type": "stream",
          "name": "stdout",
          "text": [
            "팩토리얼 값입력:5\n",
            "계산된 팩토리얼 값은: 120\n"
          ]
        }
      ]
    },
    {
      "cell_type": "markdown",
      "source": [
        "count += 1\n",
        "count = count++1"
      ],
      "metadata": {
        "id": "vQ1KBanXdP_r"
      }
    }
  ]
}