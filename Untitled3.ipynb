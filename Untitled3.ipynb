{
  "nbformat": 4,
  "nbformat_minor": 0,
  "metadata": {
    "colab": {
      "provenance": [],
      "authorship_tag": "ABX9TyOw6VkNJar48QH8hNgzwLli",
      "include_colab_link": true
    },
    "kernelspec": {
      "name": "python3",
      "display_name": "Python 3"
    },
    "language_info": {
      "name": "python"
    }
  },
  "cells": [
    {
      "cell_type": "markdown",
      "metadata": {
        "id": "view-in-github",
        "colab_type": "text"
      },
      "source": [
        "<a href=\"https://colab.research.google.com/github/YangNakyung/Firstcode/blob/main/Untitled3.ipynb\" target=\"_parent\"><img src=\"https://colab.research.google.com/assets/colab-badge.svg\" alt=\"Open In Colab\"/></a>"
      ]
    },
    {
      "cell_type": "markdown",
      "source": [
        "1. 배열의 선언\n",
        " - 일반 변수의 선언 : 변수명 = 변수의 값\n",
        " - 배열의 변수 선언 : 변수명 = { , , }\n"
      ],
      "metadata": {
        "id": "SNLNq8IpMKo1"
      }
    },
    {
      "cell_type": "code",
      "source": [
        "movie_list = [\"아바타\", \"타이타닉\", \"스타워즈\", \"주라기월드\", \"어벤저스\"]\n",
        "print(movie_list[0])\n",
        "print(movie_list[4])"
      ],
      "metadata": {
        "colab": {
          "base_uri": "https://localhost:8080/"
        },
        "id": "bQGwQteQNVhL",
        "outputId": "57fc2a38-1acb-4241-ad14-64098f50566f"
      },
      "execution_count": 4,
      "outputs": [
        {
          "output_type": "stream",
          "name": "stdout",
          "text": [
            "아바타\n",
            "어벤저스\n"
          ]
        }
      ]
    },
    {
      "cell_type": "markdown",
      "source": [
        "2. 요일을 배열로 선언하라.\n",
        " - 변수명 : day_list\n",
        "  * 요일 : 월(Mom.), 화(Tues), 수(Wed), 목(Thur.), 금(Fri.), 토(Sat.), 일(Sun.)"
      ],
      "metadata": {
        "id": "Ir8-ZcNXOcJF"
      }
    },
    {
      "cell_type": "code",
      "source": [
        "day_list = [\"월(Mom.)\", \"화(Tues)\", \"수(Wed)\", \"목(Thur.)\", \"금(Fri.)\", \"토(Sat.)\", \"일(Sun.)\"]\n",
        "print(day_list[0])\n",
        "print(day_list[4])"
      ],
      "metadata": {
        "colab": {
          "base_uri": "https://localhost:8080/"
        },
        "id": "98tV2lIpPC82",
        "outputId": "82ebe6de-d29a-4c00-c7ee-cc4e33ec2d12"
      },
      "execution_count": 5,
      "outputs": [
        {
          "output_type": "stream",
          "name": "stdout",
          "text": [
            "월(Mom.)\n",
            "금(Fri.)\n"
          ]
        }
      ]
    }
  ]
}